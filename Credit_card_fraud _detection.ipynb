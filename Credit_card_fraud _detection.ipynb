{
 "cells": [
  {
   "cell_type": "markdown",
   "id": "27d95cf2",
   "metadata": {},
   "source": [
    "# Data Science project"
   ]
  },
  {
   "cell_type": "markdown",
   "id": "2b0d0016",
   "metadata": {},
   "source": [
    "# import the dependencies"
   ]
  },
  {
   "cell_type": "code",
   "execution_count": 3,
   "id": "64f05cc2",
   "metadata": {
    "ExecuteTime": {
     "end_time": "2024-04-19T06:03:30.813514Z",
     "start_time": "2024-04-19T06:03:23.805566Z"
    }
   },
   "outputs": [],
   "source": [
    "import pandas as pd\n",
    "import numpy as np\n",
    "import matplotlib.pyplot as plt\n",
    "from sklearn.model_selection import train_test_split\n",
    "from sklearn.linear_model import LogisticRegression\n",
    "from sklearn.metrics import accuracy_score"
   ]
  },
  {
   "cell_type": "code",
   "execution_count": 4,
   "id": "635d7ee2",
   "metadata": {
    "ExecuteTime": {
     "end_time": "2024-04-19T06:03:33.161044Z",
     "start_time": "2024-04-19T06:03:30.819130Z"
    }
   },
   "outputs": [],
   "source": [
    "# loding the dataset into pandas dataframe \n",
    "credit_card_data = pd.read_csv(\"card_transdata.csv\")"
   ]
  },
  {
   "cell_type": "code",
   "execution_count": 5,
   "id": "5a4cd072",
   "metadata": {
    "ExecuteTime": {
     "end_time": "2024-04-19T06:03:46.590439Z",
     "start_time": "2024-04-19T06:03:46.533995Z"
    }
   },
   "outputs": [
    {
     "data": {
      "text/html": [
       "<div>\n",
       "<style scoped>\n",
       "    .dataframe tbody tr th:only-of-type {\n",
       "        vertical-align: middle;\n",
       "    }\n",
       "\n",
       "    .dataframe tbody tr th {\n",
       "        vertical-align: top;\n",
       "    }\n",
       "\n",
       "    .dataframe thead th {\n",
       "        text-align: right;\n",
       "    }\n",
       "</style>\n",
       "<table border=\"1\" class=\"dataframe\">\n",
       "  <thead>\n",
       "    <tr style=\"text-align: right;\">\n",
       "      <th></th>\n",
       "      <th>distance_from_home</th>\n",
       "      <th>distance_from_last_transaction</th>\n",
       "      <th>ratio_to_median_purchase_price</th>\n",
       "      <th>repeat_retailer</th>\n",
       "      <th>used_chip</th>\n",
       "      <th>used_pin_number</th>\n",
       "      <th>online_order</th>\n",
       "      <th>fraud</th>\n",
       "    </tr>\n",
       "  </thead>\n",
       "  <tbody>\n",
       "    <tr>\n",
       "      <th>0</th>\n",
       "      <td>57.877857</td>\n",
       "      <td>0.311140</td>\n",
       "      <td>1.945940</td>\n",
       "      <td>1.0</td>\n",
       "      <td>1.0</td>\n",
       "      <td>0.0</td>\n",
       "      <td>0.0</td>\n",
       "      <td>0.0</td>\n",
       "    </tr>\n",
       "    <tr>\n",
       "      <th>1</th>\n",
       "      <td>10.829943</td>\n",
       "      <td>0.175592</td>\n",
       "      <td>1.294219</td>\n",
       "      <td>1.0</td>\n",
       "      <td>0.0</td>\n",
       "      <td>0.0</td>\n",
       "      <td>0.0</td>\n",
       "      <td>0.0</td>\n",
       "    </tr>\n",
       "    <tr>\n",
       "      <th>2</th>\n",
       "      <td>5.091079</td>\n",
       "      <td>0.805153</td>\n",
       "      <td>0.427715</td>\n",
       "      <td>1.0</td>\n",
       "      <td>0.0</td>\n",
       "      <td>0.0</td>\n",
       "      <td>1.0</td>\n",
       "      <td>0.0</td>\n",
       "    </tr>\n",
       "    <tr>\n",
       "      <th>3</th>\n",
       "      <td>2.247564</td>\n",
       "      <td>5.600044</td>\n",
       "      <td>0.362663</td>\n",
       "      <td>1.0</td>\n",
       "      <td>1.0</td>\n",
       "      <td>0.0</td>\n",
       "      <td>1.0</td>\n",
       "      <td>0.0</td>\n",
       "    </tr>\n",
       "    <tr>\n",
       "      <th>4</th>\n",
       "      <td>44.190936</td>\n",
       "      <td>0.566486</td>\n",
       "      <td>2.222767</td>\n",
       "      <td>1.0</td>\n",
       "      <td>1.0</td>\n",
       "      <td>0.0</td>\n",
       "      <td>1.0</td>\n",
       "      <td>0.0</td>\n",
       "    </tr>\n",
       "  </tbody>\n",
       "</table>\n",
       "</div>"
      ],
      "text/plain": [
       "   distance_from_home  distance_from_last_transaction  \\\n",
       "0           57.877857                        0.311140   \n",
       "1           10.829943                        0.175592   \n",
       "2            5.091079                        0.805153   \n",
       "3            2.247564                        5.600044   \n",
       "4           44.190936                        0.566486   \n",
       "\n",
       "   ratio_to_median_purchase_price  repeat_retailer  used_chip  \\\n",
       "0                        1.945940              1.0        1.0   \n",
       "1                        1.294219              1.0        0.0   \n",
       "2                        0.427715              1.0        0.0   \n",
       "3                        0.362663              1.0        1.0   \n",
       "4                        2.222767              1.0        1.0   \n",
       "\n",
       "   used_pin_number  online_order  fraud  \n",
       "0              0.0           0.0    0.0  \n",
       "1              0.0           0.0    0.0  \n",
       "2              0.0           1.0    0.0  \n",
       "3              0.0           1.0    0.0  \n",
       "4              0.0           1.0    0.0  "
      ]
     },
     "execution_count": 5,
     "metadata": {},
     "output_type": "execute_result"
    }
   ],
   "source": [
    "# first five rows of the dataset \n",
    "credit_card_data.head()"
   ]
  },
  {
   "cell_type": "code",
   "execution_count": 6,
   "id": "b8d49943",
   "metadata": {
    "ExecuteTime": {
     "end_time": "2024-04-19T06:03:47.646570Z",
     "start_time": "2024-04-19T06:03:47.597576Z"
    }
   },
   "outputs": [
    {
     "data": {
      "text/html": [
       "<div>\n",
       "<style scoped>\n",
       "    .dataframe tbody tr th:only-of-type {\n",
       "        vertical-align: middle;\n",
       "    }\n",
       "\n",
       "    .dataframe tbody tr th {\n",
       "        vertical-align: top;\n",
       "    }\n",
       "\n",
       "    .dataframe thead th {\n",
       "        text-align: right;\n",
       "    }\n",
       "</style>\n",
       "<table border=\"1\" class=\"dataframe\">\n",
       "  <thead>\n",
       "    <tr style=\"text-align: right;\">\n",
       "      <th></th>\n",
       "      <th>distance_from_home</th>\n",
       "      <th>distance_from_last_transaction</th>\n",
       "      <th>ratio_to_median_purchase_price</th>\n",
       "      <th>repeat_retailer</th>\n",
       "      <th>used_chip</th>\n",
       "      <th>used_pin_number</th>\n",
       "      <th>online_order</th>\n",
       "      <th>fraud</th>\n",
       "    </tr>\n",
       "  </thead>\n",
       "  <tbody>\n",
       "    <tr>\n",
       "      <th>999995</th>\n",
       "      <td>2.207101</td>\n",
       "      <td>0.112651</td>\n",
       "      <td>1.626798</td>\n",
       "      <td>1.0</td>\n",
       "      <td>1.0</td>\n",
       "      <td>0.0</td>\n",
       "      <td>0.0</td>\n",
       "      <td>0.0</td>\n",
       "    </tr>\n",
       "    <tr>\n",
       "      <th>999996</th>\n",
       "      <td>19.872726</td>\n",
       "      <td>2.683904</td>\n",
       "      <td>2.778303</td>\n",
       "      <td>1.0</td>\n",
       "      <td>1.0</td>\n",
       "      <td>0.0</td>\n",
       "      <td>0.0</td>\n",
       "      <td>0.0</td>\n",
       "    </tr>\n",
       "    <tr>\n",
       "      <th>999997</th>\n",
       "      <td>2.914857</td>\n",
       "      <td>1.472687</td>\n",
       "      <td>0.218075</td>\n",
       "      <td>1.0</td>\n",
       "      <td>1.0</td>\n",
       "      <td>0.0</td>\n",
       "      <td>1.0</td>\n",
       "      <td>0.0</td>\n",
       "    </tr>\n",
       "    <tr>\n",
       "      <th>999998</th>\n",
       "      <td>4.258729</td>\n",
       "      <td>0.242023</td>\n",
       "      <td>0.475822</td>\n",
       "      <td>1.0</td>\n",
       "      <td>0.0</td>\n",
       "      <td>0.0</td>\n",
       "      <td>1.0</td>\n",
       "      <td>0.0</td>\n",
       "    </tr>\n",
       "    <tr>\n",
       "      <th>999999</th>\n",
       "      <td>58.108125</td>\n",
       "      <td>0.318110</td>\n",
       "      <td>0.386920</td>\n",
       "      <td>1.0</td>\n",
       "      <td>1.0</td>\n",
       "      <td>0.0</td>\n",
       "      <td>1.0</td>\n",
       "      <td>0.0</td>\n",
       "    </tr>\n",
       "  </tbody>\n",
       "</table>\n",
       "</div>"
      ],
      "text/plain": [
       "        distance_from_home  distance_from_last_transaction  \\\n",
       "999995            2.207101                        0.112651   \n",
       "999996           19.872726                        2.683904   \n",
       "999997            2.914857                        1.472687   \n",
       "999998            4.258729                        0.242023   \n",
       "999999           58.108125                        0.318110   \n",
       "\n",
       "        ratio_to_median_purchase_price  repeat_retailer  used_chip  \\\n",
       "999995                        1.626798              1.0        1.0   \n",
       "999996                        2.778303              1.0        1.0   \n",
       "999997                        0.218075              1.0        1.0   \n",
       "999998                        0.475822              1.0        0.0   \n",
       "999999                        0.386920              1.0        1.0   \n",
       "\n",
       "        used_pin_number  online_order  fraud  \n",
       "999995              0.0           0.0    0.0  \n",
       "999996              0.0           0.0    0.0  \n",
       "999997              0.0           1.0    0.0  \n",
       "999998              0.0           1.0    0.0  \n",
       "999999              0.0           1.0    0.0  "
      ]
     },
     "execution_count": 6,
     "metadata": {},
     "output_type": "execute_result"
    }
   ],
   "source": [
    "credit_card_data.tail()"
   ]
  },
  {
   "cell_type": "code",
   "execution_count": 7,
   "id": "a91e2568",
   "metadata": {
    "ExecuteTime": {
     "end_time": "2024-04-19T06:03:48.765353Z",
     "start_time": "2024-04-19T06:03:48.697665Z"
    },
    "scrolled": true
   },
   "outputs": [
    {
     "name": "stdout",
     "output_type": "stream",
     "text": [
      "<class 'pandas.core.frame.DataFrame'>\n",
      "RangeIndex: 1000000 entries, 0 to 999999\n",
      "Data columns (total 8 columns):\n",
      " #   Column                          Non-Null Count    Dtype  \n",
      "---  ------                          --------------    -----  \n",
      " 0   distance_from_home              1000000 non-null  float64\n",
      " 1   distance_from_last_transaction  1000000 non-null  float64\n",
      " 2   ratio_to_median_purchase_price  1000000 non-null  float64\n",
      " 3   repeat_retailer                 1000000 non-null  float64\n",
      " 4   used_chip                       1000000 non-null  float64\n",
      " 5   used_pin_number                 1000000 non-null  float64\n",
      " 6   online_order                    1000000 non-null  float64\n",
      " 7   fraud                           1000000 non-null  float64\n",
      "dtypes: float64(8)\n",
      "memory usage: 61.0 MB\n"
     ]
    }
   ],
   "source": [
    " credit_card_data.info()"
   ]
  },
  {
   "cell_type": "code",
   "execution_count": 8,
   "id": "63efaba9",
   "metadata": {
    "ExecuteTime": {
     "end_time": "2024-04-19T06:03:49.702409Z",
     "start_time": "2024-04-19T06:03:49.637945Z"
    }
   },
   "outputs": [
    {
     "data": {
      "text/plain": [
       "fraud\n",
       "0.0    912597\n",
       "1.0     87403\n",
       "Name: count, dtype: int64"
      ]
     },
     "execution_count": 8,
     "metadata": {},
     "output_type": "execute_result"
    }
   ],
   "source": [
    "# the distribution of legit transction and fraudlent transction\n",
    "credit_card_data['fraud'].value_counts()"
   ]
  },
  {
   "cell_type": "markdown",
   "id": "becca6ed",
   "metadata": {},
   "source": [
    "### This data set is highly unbalance \n",
    "0 --> vaild transction \n",
    "1 --> invaild transction\n"
   ]
  },
  {
   "cell_type": "code",
   "execution_count": 9,
   "id": "6c8e61cf",
   "metadata": {
    "ExecuteTime": {
     "end_time": "2024-04-19T06:03:51.859913Z",
     "start_time": "2024-04-19T06:03:51.719866Z"
    },
    "code_folding": []
   },
   "outputs": [],
   "source": [
    "##Separate the data for aanlysis \n",
    "validtransction = credit_card_data[credit_card_data.fraud==0]\n",
    "fraudtransction = credit_card_data[credit_card_data.fraud==1]"
   ]
  },
  {
   "cell_type": "code",
   "execution_count": 10,
   "id": "a0b3def0",
   "metadata": {
    "ExecuteTime": {
     "end_time": "2024-04-19T06:03:54.182761Z",
     "start_time": "2024-04-19T06:03:54.020758Z"
    }
   },
   "outputs": [
    {
     "name": "stdout",
     "output_type": "stream",
     "text": [
      "8.7403\n"
     ]
    }
   ],
   "source": [
    "##Checking the fraud percentage \n",
    "validtransctionnumber = len(credit_card_data[credit_card_data.fraud==0])\n",
    "fraudtransctionnumber = len(credit_card_data[credit_card_data.fraud==1])\n",
    "fraudtransctionpercentage = fraudtransctionnumber/(fraudtransctionnumber+validtransctionnumber)*100\n",
    "print(fraudtransctionpercentage)"
   ]
  },
  {
   "cell_type": "code",
   "execution_count": 40,
   "id": "5a66158c",
   "metadata": {
    "ExecuteTime": {
     "end_time": "2024-04-19T05:18:38.800960Z",
     "start_time": "2024-04-19T05:18:38.771785Z"
    }
   },
   "outputs": [
    {
     "data": {
      "text/html": [
       "<div>\n",
       "<style scoped>\n",
       "    .dataframe tbody tr th:only-of-type {\n",
       "        vertical-align: middle;\n",
       "    }\n",
       "\n",
       "    .dataframe tbody tr th {\n",
       "        vertical-align: top;\n",
       "    }\n",
       "\n",
       "    .dataframe thead th {\n",
       "        text-align: right;\n",
       "    }\n",
       "</style>\n",
       "<table border=\"1\" class=\"dataframe\">\n",
       "  <thead>\n",
       "    <tr style=\"text-align: right;\">\n",
       "      <th></th>\n",
       "      <th>distance_from_home</th>\n",
       "      <th>distance_from_last_transaction</th>\n",
       "      <th>ratio_to_median_purchase_price</th>\n",
       "      <th>repeat_retailer</th>\n",
       "      <th>used_chip</th>\n",
       "      <th>used_pin_number</th>\n",
       "      <th>online_order</th>\n",
       "      <th>fraud</th>\n",
       "    </tr>\n",
       "  </thead>\n",
       "  <tbody>\n",
       "    <tr>\n",
       "      <th>13</th>\n",
       "      <td>2.131956</td>\n",
       "      <td>56.372401</td>\n",
       "      <td>6.358667</td>\n",
       "      <td>1.0</td>\n",
       "      <td>0.0</td>\n",
       "      <td>0.0</td>\n",
       "      <td>1.0</td>\n",
       "      <td>1.0</td>\n",
       "    </tr>\n",
       "    <tr>\n",
       "      <th>24</th>\n",
       "      <td>3.803057</td>\n",
       "      <td>67.241081</td>\n",
       "      <td>1.872950</td>\n",
       "      <td>1.0</td>\n",
       "      <td>0.0</td>\n",
       "      <td>0.0</td>\n",
       "      <td>1.0</td>\n",
       "      <td>1.0</td>\n",
       "    </tr>\n",
       "    <tr>\n",
       "      <th>29</th>\n",
       "      <td>15.694986</td>\n",
       "      <td>175.989182</td>\n",
       "      <td>0.855623</td>\n",
       "      <td>1.0</td>\n",
       "      <td>0.0</td>\n",
       "      <td>0.0</td>\n",
       "      <td>1.0</td>\n",
       "      <td>1.0</td>\n",
       "    </tr>\n",
       "    <tr>\n",
       "      <th>35</th>\n",
       "      <td>26.711462</td>\n",
       "      <td>1.552008</td>\n",
       "      <td>4.603601</td>\n",
       "      <td>1.0</td>\n",
       "      <td>1.0</td>\n",
       "      <td>0.0</td>\n",
       "      <td>1.0</td>\n",
       "      <td>1.0</td>\n",
       "    </tr>\n",
       "    <tr>\n",
       "      <th>36</th>\n",
       "      <td>10.664474</td>\n",
       "      <td>1.565769</td>\n",
       "      <td>4.886521</td>\n",
       "      <td>1.0</td>\n",
       "      <td>0.0</td>\n",
       "      <td>0.0</td>\n",
       "      <td>1.0</td>\n",
       "      <td>1.0</td>\n",
       "    </tr>\n",
       "    <tr>\n",
       "      <th>...</th>\n",
       "      <td>...</td>\n",
       "      <td>...</td>\n",
       "      <td>...</td>\n",
       "      <td>...</td>\n",
       "      <td>...</td>\n",
       "      <td>...</td>\n",
       "      <td>...</td>\n",
       "      <td>...</td>\n",
       "    </tr>\n",
       "    <tr>\n",
       "      <th>999908</th>\n",
       "      <td>45.296658</td>\n",
       "      <td>0.882736</td>\n",
       "      <td>8.856861</td>\n",
       "      <td>1.0</td>\n",
       "      <td>0.0</td>\n",
       "      <td>0.0</td>\n",
       "      <td>1.0</td>\n",
       "      <td>1.0</td>\n",
       "    </tr>\n",
       "    <tr>\n",
       "      <th>999916</th>\n",
       "      <td>167.139756</td>\n",
       "      <td>0.282253</td>\n",
       "      <td>0.308468</td>\n",
       "      <td>1.0</td>\n",
       "      <td>0.0</td>\n",
       "      <td>0.0</td>\n",
       "      <td>1.0</td>\n",
       "      <td>1.0</td>\n",
       "    </tr>\n",
       "    <tr>\n",
       "      <th>999919</th>\n",
       "      <td>124.640118</td>\n",
       "      <td>0.004416</td>\n",
       "      <td>0.434885</td>\n",
       "      <td>1.0</td>\n",
       "      <td>0.0</td>\n",
       "      <td>0.0</td>\n",
       "      <td>1.0</td>\n",
       "      <td>1.0</td>\n",
       "    </tr>\n",
       "    <tr>\n",
       "      <th>999939</th>\n",
       "      <td>51.412900</td>\n",
       "      <td>3.429330</td>\n",
       "      <td>29.914254</td>\n",
       "      <td>1.0</td>\n",
       "      <td>0.0</td>\n",
       "      <td>0.0</td>\n",
       "      <td>1.0</td>\n",
       "      <td>1.0</td>\n",
       "    </tr>\n",
       "    <tr>\n",
       "      <th>999949</th>\n",
       "      <td>15.724799</td>\n",
       "      <td>1.875906</td>\n",
       "      <td>11.009366</td>\n",
       "      <td>1.0</td>\n",
       "      <td>1.0</td>\n",
       "      <td>0.0</td>\n",
       "      <td>1.0</td>\n",
       "      <td>1.0</td>\n",
       "    </tr>\n",
       "  </tbody>\n",
       "</table>\n",
       "<p>87403 rows × 8 columns</p>\n",
       "</div>"
      ],
      "text/plain": [
       "        distance_from_home  distance_from_last_transaction  \\\n",
       "13                2.131956                       56.372401   \n",
       "24                3.803057                       67.241081   \n",
       "29               15.694986                      175.989182   \n",
       "35               26.711462                        1.552008   \n",
       "36               10.664474                        1.565769   \n",
       "...                    ...                             ...   \n",
       "999908           45.296658                        0.882736   \n",
       "999916          167.139756                        0.282253   \n",
       "999919          124.640118                        0.004416   \n",
       "999939           51.412900                        3.429330   \n",
       "999949           15.724799                        1.875906   \n",
       "\n",
       "        ratio_to_median_purchase_price  repeat_retailer  used_chip  \\\n",
       "13                            6.358667              1.0        0.0   \n",
       "24                            1.872950              1.0        0.0   \n",
       "29                            0.855623              1.0        0.0   \n",
       "35                            4.603601              1.0        1.0   \n",
       "36                            4.886521              1.0        0.0   \n",
       "...                                ...              ...        ...   \n",
       "999908                        8.856861              1.0        0.0   \n",
       "999916                        0.308468              1.0        0.0   \n",
       "999919                        0.434885              1.0        0.0   \n",
       "999939                       29.914254              1.0        0.0   \n",
       "999949                       11.009366              1.0        1.0   \n",
       "\n",
       "        used_pin_number  online_order  fraud  \n",
       "13                  0.0           1.0    1.0  \n",
       "24                  0.0           1.0    1.0  \n",
       "29                  0.0           1.0    1.0  \n",
       "35                  0.0           1.0    1.0  \n",
       "36                  0.0           1.0    1.0  \n",
       "...                 ...           ...    ...  \n",
       "999908              0.0           1.0    1.0  \n",
       "999916              0.0           1.0    1.0  \n",
       "999919              0.0           1.0    1.0  \n",
       "999939              0.0           1.0    1.0  \n",
       "999949              0.0           1.0    1.0  \n",
       "\n",
       "[87403 rows x 8 columns]"
      ]
     },
     "execution_count": 40,
     "metadata": {},
     "output_type": "execute_result"
    }
   ],
   "source": [
    "fraudtransction"
   ]
  },
  {
   "cell_type": "code",
   "execution_count": 41,
   "id": "4aa44b93",
   "metadata": {
    "ExecuteTime": {
     "end_time": "2024-04-19T05:18:40.138838Z",
     "start_time": "2024-04-19T05:18:40.069872Z"
    }
   },
   "outputs": [
    {
     "data": {
      "text/plain": [
       "count    912597.000000\n",
       "mean          1.423642\n",
       "std           1.946152\n",
       "min           0.004399\n",
       "25%           0.449768\n",
       "50%           0.913950\n",
       "75%           1.788918\n",
       "max         267.802942\n",
       "Name: ratio_to_median_purchase_price, dtype: float64"
      ]
     },
     "execution_count": 41,
     "metadata": {},
     "output_type": "execute_result"
    }
   ],
   "source": [
    "## stastical measure of the data \n",
    "validtransction.ratio_to_median_purchase_price.describe()"
   ]
  },
  {
   "cell_type": "code",
   "execution_count": 42,
   "id": "d4724eec",
   "metadata": {
    "ExecuteTime": {
     "end_time": "2024-04-19T05:18:41.834638Z",
     "start_time": "2024-04-19T05:18:41.816771Z"
    }
   },
   "outputs": [
    {
     "data": {
      "text/plain": [
       "count    87403.000000\n",
       "mean         6.006323\n",
       "std          5.564320\n",
       "min          0.011966\n",
       "25%          3.500270\n",
       "50%          5.071294\n",
       "75%          7.331222\n",
       "max        266.689692\n",
       "Name: ratio_to_median_purchase_price, dtype: float64"
      ]
     },
     "execution_count": 42,
     "metadata": {},
     "output_type": "execute_result"
    }
   ],
   "source": [
    "fraudtransction.ratio_to_median_purchase_price.describe()"
   ]
  },
  {
   "cell_type": "code",
   "execution_count": 43,
   "id": "f11a9ea2",
   "metadata": {
    "ExecuteTime": {
     "end_time": "2024-04-19T05:18:42.879233Z",
     "start_time": "2024-04-19T05:18:42.785116Z"
    }
   },
   "outputs": [
    {
     "data": {
      "text/html": [
       "<div>\n",
       "<style scoped>\n",
       "    .dataframe tbody tr th:only-of-type {\n",
       "        vertical-align: middle;\n",
       "    }\n",
       "\n",
       "    .dataframe tbody tr th {\n",
       "        vertical-align: top;\n",
       "    }\n",
       "\n",
       "    .dataframe thead th {\n",
       "        text-align: right;\n",
       "    }\n",
       "</style>\n",
       "<table border=\"1\" class=\"dataframe\">\n",
       "  <thead>\n",
       "    <tr style=\"text-align: right;\">\n",
       "      <th></th>\n",
       "      <th>distance_from_home</th>\n",
       "      <th>distance_from_last_transaction</th>\n",
       "      <th>ratio_to_median_purchase_price</th>\n",
       "      <th>repeat_retailer</th>\n",
       "      <th>used_chip</th>\n",
       "      <th>used_pin_number</th>\n",
       "      <th>online_order</th>\n",
       "    </tr>\n",
       "    <tr>\n",
       "      <th>fraud</th>\n",
       "      <th></th>\n",
       "      <th></th>\n",
       "      <th></th>\n",
       "      <th></th>\n",
       "      <th></th>\n",
       "      <th></th>\n",
       "      <th></th>\n",
       "    </tr>\n",
       "  </thead>\n",
       "  <tbody>\n",
       "    <tr>\n",
       "      <th>0.0</th>\n",
       "      <td>22.832976</td>\n",
       "      <td>4.301391</td>\n",
       "      <td>1.423642</td>\n",
       "      <td>0.881672</td>\n",
       "      <td>0.359402</td>\n",
       "      <td>0.109944</td>\n",
       "      <td>0.622225</td>\n",
       "    </tr>\n",
       "    <tr>\n",
       "      <th>1.0</th>\n",
       "      <td>66.261876</td>\n",
       "      <td>12.712185</td>\n",
       "      <td>6.006323</td>\n",
       "      <td>0.880119</td>\n",
       "      <td>0.256399</td>\n",
       "      <td>0.003123</td>\n",
       "      <td>0.946318</td>\n",
       "    </tr>\n",
       "  </tbody>\n",
       "</table>\n",
       "</div>"
      ],
      "text/plain": [
       "       distance_from_home  distance_from_last_transaction  \\\n",
       "fraud                                                       \n",
       "0.0             22.832976                        4.301391   \n",
       "1.0             66.261876                       12.712185   \n",
       "\n",
       "       ratio_to_median_purchase_price  repeat_retailer  used_chip  \\\n",
       "fraud                                                               \n",
       "0.0                          1.423642         0.881672   0.359402   \n",
       "1.0                          6.006323         0.880119   0.256399   \n",
       "\n",
       "       used_pin_number  online_order  \n",
       "fraud                                 \n",
       "0.0           0.109944      0.622225  \n",
       "1.0           0.003123      0.946318  "
      ]
     },
     "execution_count": 43,
     "metadata": {},
     "output_type": "execute_result"
    }
   ],
   "source": [
    "##compare values for both transction \n",
    "credit_card_data.groupby('fraud').mean()"
   ]
  },
  {
   "cell_type": "markdown",
   "id": "00a4dfbe",
   "metadata": {},
   "source": [
    "# under sampling "
   ]
  },
  {
   "cell_type": "markdown",
   "id": "53ba6e76",
   "metadata": {},
   "source": [
    "Beacuse values of vaild and fraud highly imbalance to normalise this here we need to do under simpleling"
   ]
  },
  {
   "cell_type": "markdown",
   "id": "68d13e52",
   "metadata": {},
   "source": [
    "build a semple data set containing similar destribution of normal transction and fraud transction"
   ]
  },
  {
   "cell_type": "code",
   "execution_count": 44,
   "id": "f35d353f",
   "metadata": {
    "ExecuteTime": {
     "end_time": "2024-04-19T05:18:47.687695Z",
     "start_time": "2024-04-19T05:18:47.628629Z"
    }
   },
   "outputs": [],
   "source": [
    "valid_sample = validtransction.sample(87403)\n",
    "# value of fraud transction is 87403 so the sample is size for validtransction is 87403."
   ]
  },
  {
   "cell_type": "code",
   "execution_count": 45,
   "id": "1fde18e9",
   "metadata": {
    "ExecuteTime": {
     "end_time": "2024-04-19T05:18:51.103916Z",
     "start_time": "2024-04-19T05:18:51.079361Z"
    }
   },
   "outputs": [
    {
     "data": {
      "text/html": [
       "<div>\n",
       "<style scoped>\n",
       "    .dataframe tbody tr th:only-of-type {\n",
       "        vertical-align: middle;\n",
       "    }\n",
       "\n",
       "    .dataframe tbody tr th {\n",
       "        vertical-align: top;\n",
       "    }\n",
       "\n",
       "    .dataframe thead th {\n",
       "        text-align: right;\n",
       "    }\n",
       "</style>\n",
       "<table border=\"1\" class=\"dataframe\">\n",
       "  <thead>\n",
       "    <tr style=\"text-align: right;\">\n",
       "      <th></th>\n",
       "      <th>distance_from_home</th>\n",
       "      <th>distance_from_last_transaction</th>\n",
       "      <th>ratio_to_median_purchase_price</th>\n",
       "      <th>repeat_retailer</th>\n",
       "      <th>used_chip</th>\n",
       "      <th>used_pin_number</th>\n",
       "      <th>online_order</th>\n",
       "      <th>fraud</th>\n",
       "    </tr>\n",
       "  </thead>\n",
       "  <tbody>\n",
       "    <tr>\n",
       "      <th>20412</th>\n",
       "      <td>2.361506</td>\n",
       "      <td>6.203195</td>\n",
       "      <td>1.641580</td>\n",
       "      <td>1.0</td>\n",
       "      <td>0.0</td>\n",
       "      <td>0.0</td>\n",
       "      <td>0.0</td>\n",
       "      <td>0.0</td>\n",
       "    </tr>\n",
       "    <tr>\n",
       "      <th>555534</th>\n",
       "      <td>84.011607</td>\n",
       "      <td>1.593053</td>\n",
       "      <td>1.684017</td>\n",
       "      <td>1.0</td>\n",
       "      <td>0.0</td>\n",
       "      <td>0.0</td>\n",
       "      <td>1.0</td>\n",
       "      <td>0.0</td>\n",
       "    </tr>\n",
       "    <tr>\n",
       "      <th>132724</th>\n",
       "      <td>7.190044</td>\n",
       "      <td>0.120076</td>\n",
       "      <td>0.313103</td>\n",
       "      <td>1.0</td>\n",
       "      <td>0.0</td>\n",
       "      <td>0.0</td>\n",
       "      <td>1.0</td>\n",
       "      <td>0.0</td>\n",
       "    </tr>\n",
       "    <tr>\n",
       "      <th>631528</th>\n",
       "      <td>2.650284</td>\n",
       "      <td>3.974371</td>\n",
       "      <td>3.584958</td>\n",
       "      <td>1.0</td>\n",
       "      <td>0.0</td>\n",
       "      <td>0.0</td>\n",
       "      <td>1.0</td>\n",
       "      <td>0.0</td>\n",
       "    </tr>\n",
       "    <tr>\n",
       "      <th>293074</th>\n",
       "      <td>7.819792</td>\n",
       "      <td>4.333268</td>\n",
       "      <td>0.729511</td>\n",
       "      <td>1.0</td>\n",
       "      <td>1.0</td>\n",
       "      <td>0.0</td>\n",
       "      <td>0.0</td>\n",
       "      <td>0.0</td>\n",
       "    </tr>\n",
       "    <tr>\n",
       "      <th>...</th>\n",
       "      <td>...</td>\n",
       "      <td>...</td>\n",
       "      <td>...</td>\n",
       "      <td>...</td>\n",
       "      <td>...</td>\n",
       "      <td>...</td>\n",
       "      <td>...</td>\n",
       "      <td>...</td>\n",
       "    </tr>\n",
       "    <tr>\n",
       "      <th>264917</th>\n",
       "      <td>1.311067</td>\n",
       "      <td>0.090164</td>\n",
       "      <td>0.956522</td>\n",
       "      <td>0.0</td>\n",
       "      <td>0.0</td>\n",
       "      <td>0.0</td>\n",
       "      <td>1.0</td>\n",
       "      <td>0.0</td>\n",
       "    </tr>\n",
       "    <tr>\n",
       "      <th>640237</th>\n",
       "      <td>16.929194</td>\n",
       "      <td>23.241605</td>\n",
       "      <td>1.184272</td>\n",
       "      <td>1.0</td>\n",
       "      <td>1.0</td>\n",
       "      <td>0.0</td>\n",
       "      <td>1.0</td>\n",
       "      <td>0.0</td>\n",
       "    </tr>\n",
       "    <tr>\n",
       "      <th>723153</th>\n",
       "      <td>3.313584</td>\n",
       "      <td>8.883771</td>\n",
       "      <td>0.291008</td>\n",
       "      <td>1.0</td>\n",
       "      <td>1.0</td>\n",
       "      <td>0.0</td>\n",
       "      <td>1.0</td>\n",
       "      <td>0.0</td>\n",
       "    </tr>\n",
       "    <tr>\n",
       "      <th>976716</th>\n",
       "      <td>6.479746</td>\n",
       "      <td>43.308770</td>\n",
       "      <td>0.625093</td>\n",
       "      <td>1.0</td>\n",
       "      <td>0.0</td>\n",
       "      <td>0.0</td>\n",
       "      <td>1.0</td>\n",
       "      <td>0.0</td>\n",
       "    </tr>\n",
       "    <tr>\n",
       "      <th>540474</th>\n",
       "      <td>9.445526</td>\n",
       "      <td>12.626463</td>\n",
       "      <td>15.450759</td>\n",
       "      <td>1.0</td>\n",
       "      <td>0.0</td>\n",
       "      <td>1.0</td>\n",
       "      <td>0.0</td>\n",
       "      <td>0.0</td>\n",
       "    </tr>\n",
       "  </tbody>\n",
       "</table>\n",
       "<p>87403 rows × 8 columns</p>\n",
       "</div>"
      ],
      "text/plain": [
       "        distance_from_home  distance_from_last_transaction  \\\n",
       "20412             2.361506                        6.203195   \n",
       "555534           84.011607                        1.593053   \n",
       "132724            7.190044                        0.120076   \n",
       "631528            2.650284                        3.974371   \n",
       "293074            7.819792                        4.333268   \n",
       "...                    ...                             ...   \n",
       "264917            1.311067                        0.090164   \n",
       "640237           16.929194                       23.241605   \n",
       "723153            3.313584                        8.883771   \n",
       "976716            6.479746                       43.308770   \n",
       "540474            9.445526                       12.626463   \n",
       "\n",
       "        ratio_to_median_purchase_price  repeat_retailer  used_chip  \\\n",
       "20412                         1.641580              1.0        0.0   \n",
       "555534                        1.684017              1.0        0.0   \n",
       "132724                        0.313103              1.0        0.0   \n",
       "631528                        3.584958              1.0        0.0   \n",
       "293074                        0.729511              1.0        1.0   \n",
       "...                                ...              ...        ...   \n",
       "264917                        0.956522              0.0        0.0   \n",
       "640237                        1.184272              1.0        1.0   \n",
       "723153                        0.291008              1.0        1.0   \n",
       "976716                        0.625093              1.0        0.0   \n",
       "540474                       15.450759              1.0        0.0   \n",
       "\n",
       "        used_pin_number  online_order  fraud  \n",
       "20412               0.0           0.0    0.0  \n",
       "555534              0.0           1.0    0.0  \n",
       "132724              0.0           1.0    0.0  \n",
       "631528              0.0           1.0    0.0  \n",
       "293074              0.0           0.0    0.0  \n",
       "...                 ...           ...    ...  \n",
       "264917              0.0           1.0    0.0  \n",
       "640237              0.0           1.0    0.0  \n",
       "723153              0.0           1.0    0.0  \n",
       "976716              0.0           1.0    0.0  \n",
       "540474              1.0           0.0    0.0  \n",
       "\n",
       "[87403 rows x 8 columns]"
      ]
     },
     "execution_count": 45,
     "metadata": {},
     "output_type": "execute_result"
    }
   ],
   "source": [
    "valid_sample"
   ]
  },
  {
   "cell_type": "markdown",
   "id": "90a5f3fe",
   "metadata": {},
   "source": [
    "concatenating two dataframe"
   ]
  },
  {
   "cell_type": "code",
   "execution_count": 46,
   "id": "3ed4c711",
   "metadata": {
    "ExecuteTime": {
     "end_time": "2024-04-19T05:18:53.725285Z",
     "start_time": "2024-04-19T05:18:53.706057Z"
    }
   },
   "outputs": [],
   "source": [
    "new_dataset = pd.concat([valid_sample,fraudtransction],axis=0)"
   ]
  },
  {
   "cell_type": "code",
   "execution_count": 47,
   "id": "9ed5c04b",
   "metadata": {
    "ExecuteTime": {
     "end_time": "2024-04-19T05:18:55.234173Z",
     "start_time": "2024-04-19T05:18:55.206575Z"
    }
   },
   "outputs": [
    {
     "data": {
      "text/html": [
       "<div>\n",
       "<style scoped>\n",
       "    .dataframe tbody tr th:only-of-type {\n",
       "        vertical-align: middle;\n",
       "    }\n",
       "\n",
       "    .dataframe tbody tr th {\n",
       "        vertical-align: top;\n",
       "    }\n",
       "\n",
       "    .dataframe thead th {\n",
       "        text-align: right;\n",
       "    }\n",
       "</style>\n",
       "<table border=\"1\" class=\"dataframe\">\n",
       "  <thead>\n",
       "    <tr style=\"text-align: right;\">\n",
       "      <th></th>\n",
       "      <th>distance_from_home</th>\n",
       "      <th>distance_from_last_transaction</th>\n",
       "      <th>ratio_to_median_purchase_price</th>\n",
       "      <th>repeat_retailer</th>\n",
       "      <th>used_chip</th>\n",
       "      <th>used_pin_number</th>\n",
       "      <th>online_order</th>\n",
       "      <th>fraud</th>\n",
       "    </tr>\n",
       "  </thead>\n",
       "  <tbody>\n",
       "    <tr>\n",
       "      <th>20412</th>\n",
       "      <td>2.361506</td>\n",
       "      <td>6.203195</td>\n",
       "      <td>1.641580</td>\n",
       "      <td>1.0</td>\n",
       "      <td>0.0</td>\n",
       "      <td>0.0</td>\n",
       "      <td>0.0</td>\n",
       "      <td>0.0</td>\n",
       "    </tr>\n",
       "    <tr>\n",
       "      <th>555534</th>\n",
       "      <td>84.011607</td>\n",
       "      <td>1.593053</td>\n",
       "      <td>1.684017</td>\n",
       "      <td>1.0</td>\n",
       "      <td>0.0</td>\n",
       "      <td>0.0</td>\n",
       "      <td>1.0</td>\n",
       "      <td>0.0</td>\n",
       "    </tr>\n",
       "    <tr>\n",
       "      <th>132724</th>\n",
       "      <td>7.190044</td>\n",
       "      <td>0.120076</td>\n",
       "      <td>0.313103</td>\n",
       "      <td>1.0</td>\n",
       "      <td>0.0</td>\n",
       "      <td>0.0</td>\n",
       "      <td>1.0</td>\n",
       "      <td>0.0</td>\n",
       "    </tr>\n",
       "    <tr>\n",
       "      <th>631528</th>\n",
       "      <td>2.650284</td>\n",
       "      <td>3.974371</td>\n",
       "      <td>3.584958</td>\n",
       "      <td>1.0</td>\n",
       "      <td>0.0</td>\n",
       "      <td>0.0</td>\n",
       "      <td>1.0</td>\n",
       "      <td>0.0</td>\n",
       "    </tr>\n",
       "    <tr>\n",
       "      <th>293074</th>\n",
       "      <td>7.819792</td>\n",
       "      <td>4.333268</td>\n",
       "      <td>0.729511</td>\n",
       "      <td>1.0</td>\n",
       "      <td>1.0</td>\n",
       "      <td>0.0</td>\n",
       "      <td>0.0</td>\n",
       "      <td>0.0</td>\n",
       "    </tr>\n",
       "  </tbody>\n",
       "</table>\n",
       "</div>"
      ],
      "text/plain": [
       "        distance_from_home  distance_from_last_transaction  \\\n",
       "20412             2.361506                        6.203195   \n",
       "555534           84.011607                        1.593053   \n",
       "132724            7.190044                        0.120076   \n",
       "631528            2.650284                        3.974371   \n",
       "293074            7.819792                        4.333268   \n",
       "\n",
       "        ratio_to_median_purchase_price  repeat_retailer  used_chip  \\\n",
       "20412                         1.641580              1.0        0.0   \n",
       "555534                        1.684017              1.0        0.0   \n",
       "132724                        0.313103              1.0        0.0   \n",
       "631528                        3.584958              1.0        0.0   \n",
       "293074                        0.729511              1.0        1.0   \n",
       "\n",
       "        used_pin_number  online_order  fraud  \n",
       "20412               0.0           0.0    0.0  \n",
       "555534              0.0           1.0    0.0  \n",
       "132724              0.0           1.0    0.0  \n",
       "631528              0.0           1.0    0.0  \n",
       "293074              0.0           0.0    0.0  "
      ]
     },
     "execution_count": 47,
     "metadata": {},
     "output_type": "execute_result"
    }
   ],
   "source": [
    "new_dataset.head()"
   ]
  },
  {
   "cell_type": "code",
   "execution_count": 48,
   "id": "7c4eeef8",
   "metadata": {
    "ExecuteTime": {
     "end_time": "2024-04-19T05:18:58.392168Z",
     "start_time": "2024-04-19T05:18:58.370569Z"
    }
   },
   "outputs": [
    {
     "data": {
      "text/html": [
       "<div>\n",
       "<style scoped>\n",
       "    .dataframe tbody tr th:only-of-type {\n",
       "        vertical-align: middle;\n",
       "    }\n",
       "\n",
       "    .dataframe tbody tr th {\n",
       "        vertical-align: top;\n",
       "    }\n",
       "\n",
       "    .dataframe thead th {\n",
       "        text-align: right;\n",
       "    }\n",
       "</style>\n",
       "<table border=\"1\" class=\"dataframe\">\n",
       "  <thead>\n",
       "    <tr style=\"text-align: right;\">\n",
       "      <th></th>\n",
       "      <th>distance_from_home</th>\n",
       "      <th>distance_from_last_transaction</th>\n",
       "      <th>ratio_to_median_purchase_price</th>\n",
       "      <th>repeat_retailer</th>\n",
       "      <th>used_chip</th>\n",
       "      <th>used_pin_number</th>\n",
       "      <th>online_order</th>\n",
       "      <th>fraud</th>\n",
       "    </tr>\n",
       "  </thead>\n",
       "  <tbody>\n",
       "    <tr>\n",
       "      <th>999908</th>\n",
       "      <td>45.296658</td>\n",
       "      <td>0.882736</td>\n",
       "      <td>8.856861</td>\n",
       "      <td>1.0</td>\n",
       "      <td>0.0</td>\n",
       "      <td>0.0</td>\n",
       "      <td>1.0</td>\n",
       "      <td>1.0</td>\n",
       "    </tr>\n",
       "    <tr>\n",
       "      <th>999916</th>\n",
       "      <td>167.139756</td>\n",
       "      <td>0.282253</td>\n",
       "      <td>0.308468</td>\n",
       "      <td>1.0</td>\n",
       "      <td>0.0</td>\n",
       "      <td>0.0</td>\n",
       "      <td>1.0</td>\n",
       "      <td>1.0</td>\n",
       "    </tr>\n",
       "    <tr>\n",
       "      <th>999919</th>\n",
       "      <td>124.640118</td>\n",
       "      <td>0.004416</td>\n",
       "      <td>0.434885</td>\n",
       "      <td>1.0</td>\n",
       "      <td>0.0</td>\n",
       "      <td>0.0</td>\n",
       "      <td>1.0</td>\n",
       "      <td>1.0</td>\n",
       "    </tr>\n",
       "    <tr>\n",
       "      <th>999939</th>\n",
       "      <td>51.412900</td>\n",
       "      <td>3.429330</td>\n",
       "      <td>29.914254</td>\n",
       "      <td>1.0</td>\n",
       "      <td>0.0</td>\n",
       "      <td>0.0</td>\n",
       "      <td>1.0</td>\n",
       "      <td>1.0</td>\n",
       "    </tr>\n",
       "    <tr>\n",
       "      <th>999949</th>\n",
       "      <td>15.724799</td>\n",
       "      <td>1.875906</td>\n",
       "      <td>11.009366</td>\n",
       "      <td>1.0</td>\n",
       "      <td>1.0</td>\n",
       "      <td>0.0</td>\n",
       "      <td>1.0</td>\n",
       "      <td>1.0</td>\n",
       "    </tr>\n",
       "  </tbody>\n",
       "</table>\n",
       "</div>"
      ],
      "text/plain": [
       "        distance_from_home  distance_from_last_transaction  \\\n",
       "999908           45.296658                        0.882736   \n",
       "999916          167.139756                        0.282253   \n",
       "999919          124.640118                        0.004416   \n",
       "999939           51.412900                        3.429330   \n",
       "999949           15.724799                        1.875906   \n",
       "\n",
       "        ratio_to_median_purchase_price  repeat_retailer  used_chip  \\\n",
       "999908                        8.856861              1.0        0.0   \n",
       "999916                        0.308468              1.0        0.0   \n",
       "999919                        0.434885              1.0        0.0   \n",
       "999939                       29.914254              1.0        0.0   \n",
       "999949                       11.009366              1.0        1.0   \n",
       "\n",
       "        used_pin_number  online_order  fraud  \n",
       "999908              0.0           1.0    1.0  \n",
       "999916              0.0           1.0    1.0  \n",
       "999919              0.0           1.0    1.0  \n",
       "999939              0.0           1.0    1.0  \n",
       "999949              0.0           1.0    1.0  "
      ]
     },
     "execution_count": 48,
     "metadata": {},
     "output_type": "execute_result"
    }
   ],
   "source": [
    "new_dataset.tail()"
   ]
  },
  {
   "cell_type": "code",
   "execution_count": 49,
   "id": "c1ebaa52",
   "metadata": {
    "ExecuteTime": {
     "end_time": "2024-04-19T05:18:59.584467Z",
     "start_time": "2024-04-19T05:18:59.569873Z"
    }
   },
   "outputs": [
    {
     "data": {
      "text/plain": [
       "fraud\n",
       "0.0    87403\n",
       "1.0    87403\n",
       "Name: count, dtype: int64"
      ]
     },
     "execution_count": 49,
     "metadata": {},
     "output_type": "execute_result"
    }
   ],
   "source": [
    "new_dataset['fraud'].value_counts()"
   ]
  },
  {
   "cell_type": "code",
   "execution_count": 50,
   "id": "05ce40d4",
   "metadata": {
    "ExecuteTime": {
     "end_time": "2024-04-19T05:19:01.178388Z",
     "start_time": "2024-04-19T05:19:01.151360Z"
    }
   },
   "outputs": [
    {
     "data": {
      "text/html": [
       "<div>\n",
       "<style scoped>\n",
       "    .dataframe tbody tr th:only-of-type {\n",
       "        vertical-align: middle;\n",
       "    }\n",
       "\n",
       "    .dataframe tbody tr th {\n",
       "        vertical-align: top;\n",
       "    }\n",
       "\n",
       "    .dataframe thead th {\n",
       "        text-align: right;\n",
       "    }\n",
       "</style>\n",
       "<table border=\"1\" class=\"dataframe\">\n",
       "  <thead>\n",
       "    <tr style=\"text-align: right;\">\n",
       "      <th></th>\n",
       "      <th>distance_from_home</th>\n",
       "      <th>distance_from_last_transaction</th>\n",
       "      <th>ratio_to_median_purchase_price</th>\n",
       "      <th>repeat_retailer</th>\n",
       "      <th>used_chip</th>\n",
       "      <th>used_pin_number</th>\n",
       "      <th>online_order</th>\n",
       "    </tr>\n",
       "    <tr>\n",
       "      <th>fraud</th>\n",
       "      <th></th>\n",
       "      <th></th>\n",
       "      <th></th>\n",
       "      <th></th>\n",
       "      <th></th>\n",
       "      <th></th>\n",
       "      <th></th>\n",
       "    </tr>\n",
       "  </thead>\n",
       "  <tbody>\n",
       "    <tr>\n",
       "      <th>0.0</th>\n",
       "      <td>22.792596</td>\n",
       "      <td>4.274011</td>\n",
       "      <td>1.432565</td>\n",
       "      <td>0.881629</td>\n",
       "      <td>0.359599</td>\n",
       "      <td>0.111621</td>\n",
       "      <td>0.622473</td>\n",
       "    </tr>\n",
       "    <tr>\n",
       "      <th>1.0</th>\n",
       "      <td>66.261876</td>\n",
       "      <td>12.712185</td>\n",
       "      <td>6.006323</td>\n",
       "      <td>0.880119</td>\n",
       "      <td>0.256399</td>\n",
       "      <td>0.003123</td>\n",
       "      <td>0.946318</td>\n",
       "    </tr>\n",
       "  </tbody>\n",
       "</table>\n",
       "</div>"
      ],
      "text/plain": [
       "       distance_from_home  distance_from_last_transaction  \\\n",
       "fraud                                                       \n",
       "0.0             22.792596                        4.274011   \n",
       "1.0             66.261876                       12.712185   \n",
       "\n",
       "       ratio_to_median_purchase_price  repeat_retailer  used_chip  \\\n",
       "fraud                                                               \n",
       "0.0                          1.432565         0.881629   0.359599   \n",
       "1.0                          6.006323         0.880119   0.256399   \n",
       "\n",
       "       used_pin_number  online_order  \n",
       "fraud                                 \n",
       "0.0           0.111621      0.622473  \n",
       "1.0           0.003123      0.946318  "
      ]
     },
     "execution_count": 50,
     "metadata": {},
     "output_type": "execute_result"
    }
   ],
   "source": [
    "#comparision between two classes \n",
    "new_dataset.groupby('fraud').mean()"
   ]
  },
  {
   "cell_type": "markdown",
   "id": "faa0a33e",
   "metadata": {},
   "source": []
  },
  {
   "cell_type": "markdown",
   "id": "12ec71ea",
   "metadata": {},
   "source": [
    "Split data into feature and target"
   ]
  },
  {
   "cell_type": "code",
   "execution_count": 51,
   "id": "e8df55d0",
   "metadata": {
    "ExecuteTime": {
     "end_time": "2024-04-19T05:19:05.592017Z",
     "start_time": "2024-04-19T05:19:05.580817Z"
    }
   },
   "outputs": [],
   "source": [
    "x = new_dataset.drop(columns='fraud',axis=1)\n",
    "y = new_dataset['fraud']"
   ]
  },
  {
   "cell_type": "code",
   "execution_count": 52,
   "id": "ade34ff8",
   "metadata": {
    "ExecuteTime": {
     "end_time": "2024-04-19T05:19:07.440586Z",
     "start_time": "2024-04-19T05:19:07.430209Z"
    }
   },
   "outputs": [
    {
     "name": "stdout",
     "output_type": "stream",
     "text": [
      "        distance_from_home  distance_from_last_transaction  \\\n",
      "20412             2.361506                        6.203195   \n",
      "555534           84.011607                        1.593053   \n",
      "132724            7.190044                        0.120076   \n",
      "631528            2.650284                        3.974371   \n",
      "293074            7.819792                        4.333268   \n",
      "...                    ...                             ...   \n",
      "999908           45.296658                        0.882736   \n",
      "999916          167.139756                        0.282253   \n",
      "999919          124.640118                        0.004416   \n",
      "999939           51.412900                        3.429330   \n",
      "999949           15.724799                        1.875906   \n",
      "\n",
      "        ratio_to_median_purchase_price  repeat_retailer  used_chip  \\\n",
      "20412                         1.641580              1.0        0.0   \n",
      "555534                        1.684017              1.0        0.0   \n",
      "132724                        0.313103              1.0        0.0   \n",
      "631528                        3.584958              1.0        0.0   \n",
      "293074                        0.729511              1.0        1.0   \n",
      "...                                ...              ...        ...   \n",
      "999908                        8.856861              1.0        0.0   \n",
      "999916                        0.308468              1.0        0.0   \n",
      "999919                        0.434885              1.0        0.0   \n",
      "999939                       29.914254              1.0        0.0   \n",
      "999949                       11.009366              1.0        1.0   \n",
      "\n",
      "        used_pin_number  online_order  \n",
      "20412               0.0           0.0  \n",
      "555534              0.0           1.0  \n",
      "132724              0.0           1.0  \n",
      "631528              0.0           1.0  \n",
      "293074              0.0           0.0  \n",
      "...                 ...           ...  \n",
      "999908              0.0           1.0  \n",
      "999916              0.0           1.0  \n",
      "999919              0.0           1.0  \n",
      "999939              0.0           1.0  \n",
      "999949              0.0           1.0  \n",
      "\n",
      "[174806 rows x 7 columns]\n"
     ]
    }
   ],
   "source": [
    "print(x)"
   ]
  },
  {
   "cell_type": "code",
   "execution_count": 53,
   "id": "e0522177",
   "metadata": {
    "ExecuteTime": {
     "end_time": "2024-04-19T05:19:08.670967Z",
     "start_time": "2024-04-19T05:19:08.662799Z"
    }
   },
   "outputs": [
    {
     "name": "stdout",
     "output_type": "stream",
     "text": [
      "20412     0.0\n",
      "555534    0.0\n",
      "132724    0.0\n",
      "631528    0.0\n",
      "293074    0.0\n",
      "         ... \n",
      "999908    1.0\n",
      "999916    1.0\n",
      "999919    1.0\n",
      "999939    1.0\n",
      "999949    1.0\n",
      "Name: fraud, Length: 174806, dtype: float64\n"
     ]
    }
   ],
   "source": [
    "print(y)"
   ]
  },
  {
   "cell_type": "markdown",
   "id": "34254094",
   "metadata": {},
   "source": [
    "Split data into training and testing"
   ]
  },
  {
   "cell_type": "code",
   "execution_count": null,
   "id": "eba8e0de",
   "metadata": {
    "ExecuteTime": {
     "end_time": "2024-04-19T04:57:17.552637Z",
     "start_time": "2024-04-19T04:57:17.552637Z"
    }
   },
   "outputs": [],
   "source": [
    "x_train,x_test,y_train,y_test = train_test_split(x,y,test_size=0.2,stratify=y,random_state=2)"
   ]
  },
  {
   "cell_type": "code",
   "execution_count": null,
   "id": "f96b2861",
   "metadata": {
    "ExecuteTime": {
     "end_time": "2024-04-19T04:57:17.556227Z",
     "start_time": "2024-04-19T04:57:17.556227Z"
    }
   },
   "outputs": [],
   "source": [
    "print(x.shape,x_train.shape,x_test.shape)"
   ]
  },
  {
   "cell_type": "markdown",
   "id": "f567444f",
   "metadata": {},
   "source": [
    "model training"
   ]
  },
  {
   "cell_type": "markdown",
   "id": "d4b17c69",
   "metadata": {},
   "source": [
    "logistic regression"
   ]
  },
  {
   "cell_type": "code",
   "execution_count": null,
   "id": "cbe08d04",
   "metadata": {
    "ExecuteTime": {
     "end_time": "2024-04-19T04:57:17.560618Z",
     "start_time": "2024-04-19T04:57:17.560618Z"
    }
   },
   "outputs": [],
   "source": [
    "model = LogisticRegression()"
   ]
  },
  {
   "cell_type": "code",
   "execution_count": null,
   "id": "1d2946e0",
   "metadata": {
    "ExecuteTime": {
     "end_time": "2024-04-19T04:57:17.564514Z",
     "start_time": "2024-04-19T04:57:17.564514Z"
    }
   },
   "outputs": [],
   "source": [
    "# training the logistic regression model with training data \n",
    "model.fit(x_train,y_train)"
   ]
  },
  {
   "cell_type": "code",
   "execution_count": null,
   "id": "7ce908f1",
   "metadata": {
    "ExecuteTime": {
     "end_time": "2024-04-19T04:57:17.571073Z",
     "start_time": "2024-04-19T04:57:17.571073Z"
    }
   },
   "outputs": [],
   "source": [
    "\n",
    "#accurancy score \n",
    "X_train_predicition = model.predict(x_train)\n",
    "trainig_data_accuracy = accuracy_score(X_train_predicition,y_train)"
   ]
  },
  {
   "cell_type": "code",
   "execution_count": null,
   "id": "a735af00",
   "metadata": {
    "ExecuteTime": {
     "end_time": "2024-04-19T04:57:17.571073Z",
     "start_time": "2024-04-19T04:57:17.571073Z"
    }
   },
   "outputs": [],
   "source": [
    "print(\"Accuracy of the model\",trainig_data_accuracy)"
   ]
  },
  {
   "cell_type": "code",
   "execution_count": null,
   "id": "4bb3b5cf",
   "metadata": {
    "ExecuteTime": {
     "end_time": "2024-04-19T04:57:17.578922Z",
     "start_time": "2024-04-19T04:57:17.578922Z"
    }
   },
   "outputs": [],
   "source": [
    "# prediction on the testing data \n",
    "x_test_prediction = model.predict(x_test)\n",
    "testing_data_accuracy = accuracy_score(x_test_prediction,y_test)"
   ]
  },
  {
   "cell_type": "code",
   "execution_count": null,
   "id": "58ea8416",
   "metadata": {
    "ExecuteTime": {
     "end_time": "2024-04-19T04:57:17.578922Z",
     "start_time": "2024-04-19T04:57:17.578922Z"
    }
   },
   "outputs": [],
   "source": [
    "print(\"Accuracy of the testing data\",testing_data_accuracy)"
   ]
  },
  {
   "cell_type": "code",
   "execution_count": null,
   "id": "e1eb4033",
   "metadata": {
    "ExecuteTime": {
     "end_time": "2024-04-19T04:57:17.586948Z",
     "start_time": "2024-04-19T04:57:17.586948Z"
    }
   },
   "outputs": [],
   "source": [
    "import pickle"
   ]
  },
  {
   "cell_type": "code",
   "execution_count": null,
   "id": "df8520b7",
   "metadata": {
    "ExecuteTime": {
     "end_time": "2024-04-19T04:57:17.586948Z",
     "start_time": "2024-04-19T04:57:17.586948Z"
    }
   },
   "outputs": [],
   "source": [
    "import joblib \n",
    "joblib.dump(model,'fraud_detection_model')"
   ]
  },
  {
   "cell_type": "markdown",
   "id": "673b9724",
   "metadata": {},
   "source": [
    "# Diffrence between Machine learning and Artifical intelligence"
   ]
  },
  {
   "cell_type": "markdown",
   "id": "efb5d7b6",
   "metadata": {
    "ExecuteTime": {
     "end_time": "2024-04-18T17:16:18.916924Z",
     "start_time": "2024-04-18T17:16:18.763455Z"
    }
   },
   "source": [
    "Difference between machine learning and Artifical intelligence \n",
    "\n",
    "Artifical intellogence \n",
    "Artificial intelligence is a broad field, which refers to the use of technologies to build machines and computers that have the ability to mimic cognitive functions associated with human intelligence, such as being able to see, understand, and respond to spoken or written language, analyze data, make recommendations, and more. \n",
    "Machine learning \n",
    "Machine learning is a subset of artificial intelligence that automatically enables a machine or system to learn and improve from experience. Instead of explicit programming, machine learning uses algorithms to analyze large amounts of data, learn from the insights, and then make informed decisions. \n",
    "so basically, \n",
    "AI is the broader concept of enabling a machine or system to sense, reason, act, or adapt like a human .\n",
    "while \n",
    "ML is an application of AI that allows machines to extract knowledge from data and learn from it autonomously"
   ]
  },
  {
   "cell_type": "markdown",
   "id": "904f673c",
   "metadata": {},
   "source": [
    "# Real world task achieved by machine learning"
   ]
  },
  {
   "cell_type": "markdown",
   "id": "d732e8a7",
   "metadata": {},
   "source": [
    "Machine learning in useful in various real world task here are some example \n",
    "1. In automobile sector now a days driver less cars in the news this is application of machine learning\n",
    "2. In sports like chess Top player use chess engine to analyse and improve their game this also is a application of machine learning\n",
    "3. In finance sector application like this means credit card fraud detection, loan approval is very useful.\n",
    "4. In  health care sector rabotic surgery and many  other application are  part of machine learnig .\n",
    "5. LLMs like chatgpt,bard also used machinelearning in their backhand project\n",
    "This is few exmple but machine learning has many more applications that can able solve real world problem."
   ]
  }
 ],
 "metadata": {
  "kernelspec": {
   "display_name": "Python 3 (ipykernel)",
   "language": "python",
   "name": "python3"
  },
  "language_info": {
   "codemirror_mode": {
    "name": "ipython",
    "version": 3
   },
   "file_extension": ".py",
   "mimetype": "text/x-python",
   "name": "python",
   "nbconvert_exporter": "python",
   "pygments_lexer": "ipython3",
   "version": "3.11.4"
  }
 },
 "nbformat": 4,
 "nbformat_minor": 5
}
