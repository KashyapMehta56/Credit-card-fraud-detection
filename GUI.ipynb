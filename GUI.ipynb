{
 "cells": [
  {
   "cell_type": "code",
   "execution_count": null,
   "id": "07519dd1",
   "metadata": {
    "ExecuteTime": {
     "start_time": "2024-04-19T03:46:51.912Z"
    }
   },
   "outputs": [
    {
     "name": "stderr",
     "output_type": "stream",
     "text": [
      "C:\\Users\\Kashyap\\AppData\\Local\\Programs\\Python\\Python311\\Lib\\site-packages\\sklearn\\base.py:464: UserWarning: X does not have valid feature names, but LogisticRegression was fitted with feature names\n",
      "  warnings.warn(\n",
      "C:\\Users\\Kashyap\\AppData\\Local\\Programs\\Python\\Python311\\Lib\\site-packages\\sklearn\\base.py:464: UserWarning: X does not have valid feature names, but LogisticRegression was fitted with feature names\n",
      "  warnings.warn(\n",
      "C:\\Users\\Kashyap\\AppData\\Local\\Programs\\Python\\Python311\\Lib\\site-packages\\sklearn\\base.py:464: UserWarning: X does not have valid feature names, but LogisticRegression was fitted with feature names\n",
      "  warnings.warn(\n"
     ]
    }
   ],
   "source": [
    "import tkinter as tk\n",
    "from tkinter import messagebox\n",
    "import joblib\n",
    "import numpy as np\n",
    "\n",
    "# Load the pre-trained machine learning model\n",
    "model = joblib.load('fraud_detection_model')\n",
    "\n",
    "# Define the GUI function to predict fraud\n",
    "def predict_fraud():\n",
    "    # Get input values from the user\n",
    "    distance_from_home = float(entry_distance_from_home.get())\n",
    "    distance_from_last_transaction = float(entry_distance_from_last_transaction.get())\n",
    "    ratio_to_median_purchase_price = float(entry_ratio_to_median_purchase_price.get())\n",
    "    repeat_retailer = bool(entry_repeat_retailer.get())\n",
    "    used_chveip = bool(entry_used_chveip.get())\n",
    "    used_pin_number = bool(entry_used_pin_number.get())\n",
    "    online_order = bool(entry_online_order.get())\n",
    "\n",
    "    # Prepare the input features\n",
    "    features = np.array([[distance_from_home, distance_from_last_transaction,\n",
    "                          ratio_to_median_purchase_price, repeat_retailer,\n",
    "                          used_chveip, used_pin_number, online_order]])\n",
    "\n",
    "    # Make prediction\n",
    "    prediction = model.predict(features)\n",
    "\n",
    "    # Display the prediction\n",
    "    if prediction == 1:\n",
    "        messagebox.showinfo(\"Prediction\", \"The transaction is predicted as FRAUDULENT.\")\n",
    "    else:\n",
    "        messagebox.showinfo(\"Prediction\", \"The transaction is predicted as LEGITIMATE.\")\n",
    "\n",
    "# Create the main Tkinter window\n",
    "root = tk.Tk()\n",
    "root.title(\"Credit Card Fraud Detection System\")\n",
    "\n",
    "# Create input fields for credit card details\n",
    "tk.Label(root, text=\"Distance from Home:\").grid(row=0, column=0)\n",
    "entry_distance_from_home = tk.Entry(root)\n",
    "entry_distance_from_home.grid(row=0, column=1)\n",
    "\n",
    "tk.Label(root, text=\"Distance from Last Transaction:\").grid(row=1, column=0)\n",
    "entry_distance_from_last_transaction = tk.Entry(root)\n",
    "entry_distance_from_last_transaction.grid(row=1, column=1)\n",
    "\n",
    "tk.Label(root, text=\"Ratio to Median Purchase Price:\").grid(row=2, column=0)\n",
    "entry_ratio_to_median_purchase_price = tk.Entry(root)\n",
    "entry_ratio_to_median_purchase_price.grid(row=2, column=1)\n",
    "\n",
    "tk.Label(root, text=\"Repeat Retailer (1 for yes, 0 for no):\").grid(row=3, column=0)\n",
    "entry_repeat_retailer = tk.Entry(root)\n",
    "entry_repeat_retailer.grid(row=3, column=1)\n",
    "\n",
    "tk.Label(root, text=\"Used CHVEIP (1 for yes, 0 for no):\").grid(row=4, column=0)\n",
    "entry_used_chveip = tk.Entry(root)\n",
    "entry_used_chveip.grid(row=4, column=1)\n",
    "\n",
    "tk.Label(root, text=\"Used PIN Number (1 for yes, 0 for no):\").grid(row=5, column=0)\n",
    "entry_used_pin_number = tk.Entry(root)\n",
    "entry_used_pin_number.grid(row=5, column=1)\n",
    "\n",
    "tk.Label(root, text=\"Online Order (1 for yes, 0 for no):\").grid(row=6, column=0)\n",
    "entry_online_order = tk.Entry(root)\n",
    "entry_online_order.grid(row=6, column=1)\n",
    "\n",
    "# Create a button to predict fraud\n",
    "predict_button = tk.Button(root, text=\"Predict\", command=predict_fraud)\n",
    "predict_button.grid(row=7, columnspan=2)\n",
    "\n",
    "# Run the main event loop\n",
    "root.mainloop()\n"
   ]
  },
  {
   "cell_type": "code",
   "execution_count": null,
   "id": "93d0cdee",
   "metadata": {},
   "outputs": [],
   "source": []
  }
 ],
 "metadata": {
  "kernelspec": {
   "display_name": "Python 3 (ipykernel)",
   "language": "python",
   "name": "python3"
  },
  "language_info": {
   "codemirror_mode": {
    "name": "ipython",
    "version": 3
   },
   "file_extension": ".py",
   "mimetype": "text/x-python",
   "name": "python",
   "nbconvert_exporter": "python",
   "pygments_lexer": "ipython3",
   "version": "3.11.4"
  }
 },
 "nbformat": 4,
 "nbformat_minor": 5
}
